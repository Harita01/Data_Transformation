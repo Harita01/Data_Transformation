{
 "cells": [
  {
   "cell_type": "code",
   "execution_count": 4,
   "metadata": {},
   "outputs": [],
   "source": [
    "import pandas as pd\n",
    "import numpy as np"
   ]
  },
  {
   "cell_type": "code",
   "execution_count": 5,
   "metadata": {
    "scrolled": true
   },
   "outputs": [
    {
     "data": {
      "text/html": [
       "<div>\n",
       "<style scoped>\n",
       "    .dataframe tbody tr th:only-of-type {\n",
       "        vertical-align: middle;\n",
       "    }\n",
       "\n",
       "    .dataframe tbody tr th {\n",
       "        vertical-align: top;\n",
       "    }\n",
       "\n",
       "    .dataframe thead th {\n",
       "        text-align: right;\n",
       "    }\n",
       "</style>\n",
       "<table border=\"1\" class=\"dataframe\">\n",
       "  <thead>\n",
       "    <tr style=\"text-align: right;\">\n",
       "      <th></th>\n",
       "      <th>sepal_length</th>\n",
       "      <th>sepal_width</th>\n",
       "      <th>petal_length</th>\n",
       "      <th>petal_width</th>\n",
       "      <th>species</th>\n",
       "    </tr>\n",
       "  </thead>\n",
       "  <tbody>\n",
       "    <tr>\n",
       "      <th>0</th>\n",
       "      <td>5.1</td>\n",
       "      <td>3.5</td>\n",
       "      <td>1.4</td>\n",
       "      <td>0.2</td>\n",
       "      <td>setosa</td>\n",
       "    </tr>\n",
       "    <tr>\n",
       "      <th>1</th>\n",
       "      <td>4.9</td>\n",
       "      <td>3.0</td>\n",
       "      <td>1.4</td>\n",
       "      <td>0.2</td>\n",
       "      <td>setosa</td>\n",
       "    </tr>\n",
       "    <tr>\n",
       "      <th>2</th>\n",
       "      <td>4.7</td>\n",
       "      <td>3.2</td>\n",
       "      <td>1.3</td>\n",
       "      <td>0.2</td>\n",
       "      <td>setosa</td>\n",
       "    </tr>\n",
       "    <tr>\n",
       "      <th>3</th>\n",
       "      <td>4.6</td>\n",
       "      <td>3.1</td>\n",
       "      <td>1.5</td>\n",
       "      <td>0.2</td>\n",
       "      <td>setosa</td>\n",
       "    </tr>\n",
       "    <tr>\n",
       "      <th>4</th>\n",
       "      <td>5.0</td>\n",
       "      <td>3.6</td>\n",
       "      <td>1.4</td>\n",
       "      <td>0.2</td>\n",
       "      <td>setosa</td>\n",
       "    </tr>\n",
       "    <tr>\n",
       "      <th>...</th>\n",
       "      <td>...</td>\n",
       "      <td>...</td>\n",
       "      <td>...</td>\n",
       "      <td>...</td>\n",
       "      <td>...</td>\n",
       "    </tr>\n",
       "    <tr>\n",
       "      <th>145</th>\n",
       "      <td>6.7</td>\n",
       "      <td>3.0</td>\n",
       "      <td>5.2</td>\n",
       "      <td>2.3</td>\n",
       "      <td>virginica</td>\n",
       "    </tr>\n",
       "    <tr>\n",
       "      <th>146</th>\n",
       "      <td>6.3</td>\n",
       "      <td>2.5</td>\n",
       "      <td>5.0</td>\n",
       "      <td>1.9</td>\n",
       "      <td>virginica</td>\n",
       "    </tr>\n",
       "    <tr>\n",
       "      <th>147</th>\n",
       "      <td>6.5</td>\n",
       "      <td>3.0</td>\n",
       "      <td>5.2</td>\n",
       "      <td>2.0</td>\n",
       "      <td>virginica</td>\n",
       "    </tr>\n",
       "    <tr>\n",
       "      <th>148</th>\n",
       "      <td>6.2</td>\n",
       "      <td>3.4</td>\n",
       "      <td>5.4</td>\n",
       "      <td>2.3</td>\n",
       "      <td>virginica</td>\n",
       "    </tr>\n",
       "    <tr>\n",
       "      <th>149</th>\n",
       "      <td>5.9</td>\n",
       "      <td>3.0</td>\n",
       "      <td>5.1</td>\n",
       "      <td>1.8</td>\n",
       "      <td>virginica</td>\n",
       "    </tr>\n",
       "  </tbody>\n",
       "</table>\n",
       "<p>150 rows × 5 columns</p>\n",
       "</div>"
      ],
      "text/plain": [
       "     sepal_length  sepal_width  petal_length  petal_width    species\n",
       "0             5.1          3.5           1.4          0.2     setosa\n",
       "1             4.9          3.0           1.4          0.2     setosa\n",
       "2             4.7          3.2           1.3          0.2     setosa\n",
       "3             4.6          3.1           1.5          0.2     setosa\n",
       "4             5.0          3.6           1.4          0.2     setosa\n",
       "..            ...          ...           ...          ...        ...\n",
       "145           6.7          3.0           5.2          2.3  virginica\n",
       "146           6.3          2.5           5.0          1.9  virginica\n",
       "147           6.5          3.0           5.2          2.0  virginica\n",
       "148           6.2          3.4           5.4          2.3  virginica\n",
       "149           5.9          3.0           5.1          1.8  virginica\n",
       "\n",
       "[150 rows x 5 columns]"
      ]
     },
     "execution_count": 5,
     "metadata": {},
     "output_type": "execute_result"
    }
   ],
   "source": [
    "df = pd.read_csv (\"iris.csv\")\n",
    "df"
   ]
  },
  {
   "cell_type": "markdown",
   "metadata": {},
   "source": [
    "# Pearson correlation coefficients"
   ]
  },
  {
   "cell_type": "code",
   "execution_count": 6,
   "metadata": {},
   "outputs": [],
   "source": [
    "def pearsonr(x, y):\n",
    "  n = len(x)\n",
    "  sum_x = float(sum(x))\n",
    "  sum_y = float(sum(y))\n",
    "  sum_x_sq = sum(xi*xi for xi in x)\n",
    "  sum_y_sq = sum(yi*yi for yi in y)\n",
    "  psum = sum(xi*yi for xi, yi in zip(x, y))\n",
    "  num = psum - (sum_x * sum_y/n)\n",
    "  den = pow((sum_x_sq - pow(sum_x, 2) / n) * (sum_y_sq - pow(sum_y, 2) / n), 0.5)\n",
    "  if den == 0: return 0\n",
    "  return num / den"
   ]
  },
  {
   "cell_type": "code",
   "execution_count": 7,
   "metadata": {},
   "outputs": [
    {
     "data": {
      "text/plain": [
       "-0.11756978413303029"
      ]
     },
     "execution_count": 7,
     "metadata": {},
     "output_type": "execute_result"
    }
   ],
   "source": [
    "pearsonr(df.sepal_length, df.sepal_width)"
   ]
  },
  {
   "cell_type": "markdown",
   "metadata": {},
   "source": [
    "# plot the graphs to visualize the correlation between two variables"
   ]
  },
  {
   "cell_type": "code",
   "execution_count": 9,
   "metadata": {},
   "outputs": [
    {
     "data": {
      "text/plain": [
       "<matplotlib.collections.PathCollection at 0x23f6e325d90>"
      ]
     },
     "execution_count": 9,
     "metadata": {},
     "output_type": "execute_result"
    },
    {
     "data": {
      "image/png": "[encoded data removed]",
      "text/plain": [
       "<Figure size 432x288 with 1 Axes>"
      ]
     },
     "metadata": {
      "needs_background": "light"
     },
     "output_type": "display_data"
    }
   ],
   "source": [
    "import matplotlib.pyplot as plt\n",
    "a = (df.sepal_length).to_numpy()\n",
    "b = (df.sepal_width).to_numpy()\n",
    "plt.scatter(a,b)"
   ]
  },
  {
   "cell_type": "markdown",
   "metadata": {},
   "source": [
    "# correlation matrix"
   ]
  },
  {
   "cell_type": "code",
   "execution_count": 10,
   "metadata": {},
   "outputs": [
    {
     "data": {
      "text/html": [
       "<div>\n",
       "<style scoped>\n",
       "    .dataframe tbody tr th:only-of-type {\n",
       "        vertical-align: middle;\n",
       "    }\n",
       "\n",
       "    .dataframe tbody tr th {\n",
       "        vertical-align: top;\n",
       "    }\n",
       "\n",
       "    .dataframe thead th {\n",
       "        text-align: right;\n",
       "    }\n",
       "</style>\n",
       "<table border=\"1\" class=\"dataframe\">\n",
       "  <thead>\n",
       "    <tr style=\"text-align: right;\">\n",
       "      <th></th>\n",
       "      <th>sepal_length</th>\n",
       "      <th>sepal_width</th>\n",
       "      <th>petal_length</th>\n",
       "      <th>petal_width</th>\n",
       "    </tr>\n",
       "  </thead>\n",
       "  <tbody>\n",
       "    <tr>\n",
       "      <th>0</th>\n",
       "      <td>5.1</td>\n",
       "      <td>3.5</td>\n",
       "      <td>1.4</td>\n",
       "      <td>0.2</td>\n",
       "    </tr>\n",
       "    <tr>\n",
       "      <th>1</th>\n",
       "      <td>4.9</td>\n",
       "      <td>3.0</td>\n",
       "      <td>1.4</td>\n",
       "      <td>0.2</td>\n",
       "    </tr>\n",
       "    <tr>\n",
       "      <th>2</th>\n",
       "      <td>4.7</td>\n",
       "      <td>3.2</td>\n",
       "      <td>1.3</td>\n",
       "      <td>0.2</td>\n",
       "    </tr>\n",
       "    <tr>\n",
       "      <th>3</th>\n",
       "      <td>4.6</td>\n",
       "      <td>3.1</td>\n",
       "      <td>1.5</td>\n",
       "      <td>0.2</td>\n",
       "    </tr>\n",
       "    <tr>\n",
       "      <th>4</th>\n",
       "      <td>5.0</td>\n",
       "      <td>3.6</td>\n",
       "      <td>1.4</td>\n",
       "      <td>0.2</td>\n",
       "    </tr>\n",
       "  </tbody>\n",
       "</table>\n",
       "</div>"
      ],
      "text/plain": [
       "   sepal_length  sepal_width  petal_length  petal_width\n",
       "0           5.1          3.5           1.4          0.2\n",
       "1           4.9          3.0           1.4          0.2\n",
       "2           4.7          3.2           1.3          0.2\n",
       "3           4.6          3.1           1.5          0.2\n",
       "4           5.0          3.6           1.4          0.2"
      ]
     },
     "execution_count": 10,
     "metadata": {},
     "output_type": "execute_result"
    }
   ],
   "source": [
    "data = df.select_dtypes(float,int)\n",
    "data.head()"
   ]
  },
  {
   "cell_type": "code",
   "execution_count": 12,
   "metadata": {},
   "outputs": [
    {
     "name": "stdout",
     "output_type": "stream",
     "text": [
      "[[4.75       4.42166667 4.35333333 ... 2.915      2.475      2.6       ]\n",
      " [4.42166667 4.14916667 4.055      ... 2.95583333 2.50416667 2.62833333]\n",
      " [4.35333333 4.055      3.99       ... 2.68833333 2.28166667 2.39666667]\n",
      " ...\n",
      " [2.915      2.95583333 2.68833333 ... 4.18916667 3.65083333 3.835     ]\n",
      " [2.475      2.50416667 2.28166667 ... 3.65083333 3.20916667 3.375     ]\n",
      " [2.6        2.62833333 2.39666667 ... 3.835      3.375      3.55      ]]\n"
     ]
    }
   ],
   "source": [
    "covMatrix = np.cov(data,bias=False)\n",
    "print (covMatrix)"
   ]
  },
  {
   "cell_type": "code",
   "execution_count": 14,
   "metadata": {},
   "outputs": [
    {
     "data": {
      "image/png": "[encoded data removed]",
      "text/plain": [
       "<Figure size 432x288 with 2 Axes>"
      ]
     },
     "metadata": {
      "needs_background": "light"
     },
     "output_type": "display_data"
    }
   ],
   "source": [
    "import seaborn as sn\n",
    "import matplotlib.pyplot as plt\n",
    "sn.heatmap(covMatrix, annot=True, fmt='g')\n",
    "plt.show()"
   ]
  },
  {
   "cell_type": "markdown",
   "metadata": {},
   "source": [
    "# z-score standardization"
   ]
  },
  {
   "cell_type": "code",
   "execution_count": 15,
   "metadata": {},
   "outputs": [
    {
     "data": {
      "text/html": [
       "<div>\n",
       "<style scoped>\n",
       "    .dataframe tbody tr th:only-of-type {\n",
       "        vertical-align: middle;\n",
       "    }\n",
       "\n",
       "    .dataframe tbody tr th {\n",
       "        vertical-align: top;\n",
       "    }\n",
       "\n",
       "    .dataframe thead th {\n",
       "        text-align: right;\n",
       "    }\n",
       "</style>\n",
       "<table border=\"1\" class=\"dataframe\">\n",
       "  <thead>\n",
       "    <tr style=\"text-align: right;\">\n",
       "      <th></th>\n",
       "      <th>sepal_length</th>\n",
       "      <th>sepal_width</th>\n",
       "      <th>petal_length</th>\n",
       "      <th>petal_width</th>\n",
       "    </tr>\n",
       "  </thead>\n",
       "  <tbody>\n",
       "    <tr>\n",
       "      <th>0</th>\n",
       "      <td>5.1</td>\n",
       "      <td>3.5</td>\n",
       "      <td>1.4</td>\n",
       "      <td>0.2</td>\n",
       "    </tr>\n",
       "    <tr>\n",
       "      <th>1</th>\n",
       "      <td>4.9</td>\n",
       "      <td>3.0</td>\n",
       "      <td>1.4</td>\n",
       "      <td>0.2</td>\n",
       "    </tr>\n",
       "    <tr>\n",
       "      <th>2</th>\n",
       "      <td>4.7</td>\n",
       "      <td>3.2</td>\n",
       "      <td>1.3</td>\n",
       "      <td>0.2</td>\n",
       "    </tr>\n",
       "    <tr>\n",
       "      <th>3</th>\n",
       "      <td>4.6</td>\n",
       "      <td>3.1</td>\n",
       "      <td>1.5</td>\n",
       "      <td>0.2</td>\n",
       "    </tr>\n",
       "    <tr>\n",
       "      <th>4</th>\n",
       "      <td>5.0</td>\n",
       "      <td>3.6</td>\n",
       "      <td>1.4</td>\n",
       "      <td>0.2</td>\n",
       "    </tr>\n",
       "  </tbody>\n",
       "</table>\n",
       "</div>"
      ],
      "text/plain": [
       "   sepal_length  sepal_width  petal_length  petal_width\n",
       "0           5.1          3.5           1.4          0.2\n",
       "1           4.9          3.0           1.4          0.2\n",
       "2           4.7          3.2           1.3          0.2\n",
       "3           4.6          3.1           1.5          0.2\n",
       "4           5.0          3.6           1.4          0.2"
      ]
     },
     "execution_count": 15,
     "metadata": {},
     "output_type": "execute_result"
    }
   ],
   "source": [
    "data.head()"
   ]
  },
  {
   "cell_type": "code",
   "execution_count": 16,
   "metadata": {
    "scrolled": true
   },
   "outputs": [
    {
     "data": {
      "text/html": [
       "<div>\n",
       "<style scoped>\n",
       "    .dataframe tbody tr th:only-of-type {\n",
       "        vertical-align: middle;\n",
       "    }\n",
       "\n",
       "    .dataframe tbody tr th {\n",
       "        vertical-align: top;\n",
       "    }\n",
       "\n",
       "    .dataframe thead th {\n",
       "        text-align: right;\n",
       "    }\n",
       "</style>\n",
       "<table border=\"1\" class=\"dataframe\">\n",
       "  <thead>\n",
       "    <tr style=\"text-align: right;\">\n",
       "      <th></th>\n",
       "      <th>sepal_length</th>\n",
       "      <th>sepal_width</th>\n",
       "      <th>petal_length</th>\n",
       "      <th>petal_width</th>\n",
       "    </tr>\n",
       "  </thead>\n",
       "  <tbody>\n",
       "    <tr>\n",
       "      <th>0</th>\n",
       "      <td>-0.897674</td>\n",
       "      <td>1.015602</td>\n",
       "      <td>-1.335752</td>\n",
       "      <td>-1.311052</td>\n",
       "    </tr>\n",
       "    <tr>\n",
       "      <th>1</th>\n",
       "      <td>-1.139200</td>\n",
       "      <td>-0.131539</td>\n",
       "      <td>-1.335752</td>\n",
       "      <td>-1.311052</td>\n",
       "    </tr>\n",
       "    <tr>\n",
       "      <th>2</th>\n",
       "      <td>-1.380727</td>\n",
       "      <td>0.327318</td>\n",
       "      <td>-1.392399</td>\n",
       "      <td>-1.311052</td>\n",
       "    </tr>\n",
       "    <tr>\n",
       "      <th>3</th>\n",
       "      <td>-1.501490</td>\n",
       "      <td>0.097889</td>\n",
       "      <td>-1.279104</td>\n",
       "      <td>-1.311052</td>\n",
       "    </tr>\n",
       "    <tr>\n",
       "      <th>4</th>\n",
       "      <td>-1.018437</td>\n",
       "      <td>1.245030</td>\n",
       "      <td>-1.335752</td>\n",
       "      <td>-1.311052</td>\n",
       "    </tr>\n",
       "    <tr>\n",
       "      <th>...</th>\n",
       "      <td>...</td>\n",
       "      <td>...</td>\n",
       "      <td>...</td>\n",
       "      <td>...</td>\n",
       "    </tr>\n",
       "    <tr>\n",
       "      <th>145</th>\n",
       "      <td>1.034539</td>\n",
       "      <td>-0.131539</td>\n",
       "      <td>0.816859</td>\n",
       "      <td>1.443994</td>\n",
       "    </tr>\n",
       "    <tr>\n",
       "      <th>146</th>\n",
       "      <td>0.551486</td>\n",
       "      <td>-1.278680</td>\n",
       "      <td>0.703564</td>\n",
       "      <td>0.919223</td>\n",
       "    </tr>\n",
       "    <tr>\n",
       "      <th>147</th>\n",
       "      <td>0.793012</td>\n",
       "      <td>-0.131539</td>\n",
       "      <td>0.816859</td>\n",
       "      <td>1.050416</td>\n",
       "    </tr>\n",
       "    <tr>\n",
       "      <th>148</th>\n",
       "      <td>0.430722</td>\n",
       "      <td>0.786174</td>\n",
       "      <td>0.930154</td>\n",
       "      <td>1.443994</td>\n",
       "    </tr>\n",
       "    <tr>\n",
       "      <th>149</th>\n",
       "      <td>0.068433</td>\n",
       "      <td>-0.131539</td>\n",
       "      <td>0.760211</td>\n",
       "      <td>0.788031</td>\n",
       "    </tr>\n",
       "  </tbody>\n",
       "</table>\n",
       "<p>150 rows × 4 columns</p>\n",
       "</div>"
      ],
      "text/plain": [
       "     sepal_length  sepal_width  petal_length  petal_width\n",
       "0       -0.897674     1.015602     -1.335752    -1.311052\n",
       "1       -1.139200    -0.131539     -1.335752    -1.311052\n",
       "2       -1.380727     0.327318     -1.392399    -1.311052\n",
       "3       -1.501490     0.097889     -1.279104    -1.311052\n",
       "4       -1.018437     1.245030     -1.335752    -1.311052\n",
       "..            ...          ...           ...          ...\n",
       "145      1.034539    -0.131539      0.816859     1.443994\n",
       "146      0.551486    -1.278680      0.703564     0.919223\n",
       "147      0.793012    -0.131539      0.816859     1.050416\n",
       "148      0.430722     0.786174      0.930154     1.443994\n",
       "149      0.068433    -0.131539      0.760211     0.788031\n",
       "\n",
       "[150 rows x 4 columns]"
      ]
     },
     "execution_count": 16,
     "metadata": {},
     "output_type": "execute_result"
    }
   ],
   "source": [
    "data_z = (data-data.mean())/(data.std())\n",
    "data_z"
   ]
  },
  {
   "cell_type": "markdown",
   "metadata": {},
   "source": [
    "# covariance matrix for the standardized data"
   ]
  },
  {
   "cell_type": "code",
   "execution_count": 17,
   "metadata": {},
   "outputs": [
    {
     "name": "stdout",
     "output_type": "stream",
     "text": [
      "[[ 1.24718431  0.63846159  0.92515524 ... -0.57166864 -0.15116299\n",
      "  -0.43489774]\n",
      " [ 0.63846159  0.32712814  0.47640372 ... -0.29258274 -0.07089342\n",
      "  -0.218246  ]\n",
      " [ 0.92515524  0.47640372  0.71422546 ... -0.42583117 -0.05097185\n",
      "  -0.27811553]\n",
      " ...\n",
      " [-0.57166864 -0.29258274 -0.42583117 ...  0.27272041  0.08151435\n",
      "   0.19381073]\n",
      " [-0.15116299 -0.07089342 -0.05097185 ...  0.08151435  0.17666553\n",
      "   0.14593047]\n",
      " [-0.43489774 -0.218246   -0.27811553 ...  0.19381073  0.14593047\n",
      "   0.22316406]]\n"
     ]
    }
   ],
   "source": [
    "covMatrix = np.cov(data_z,bias=False)\n",
    "print (covMatrix)"
   ]
  },
  {
   "cell_type": "markdown",
   "metadata": {},
   "source": [
    "# eigenvalues and eigenvectors"
   ]
  },
  {
   "cell_type": "code",
   "execution_count": 18,
   "metadata": {},
   "outputs": [],
   "source": [
    "A = covMatrix_data\n",
    "from numpy.linalg import eig as eigenValuesAndVectors\n",
    "\n",
    "solution = eigenValuesAndVectors(A)\n",
    "\n",
    "eigenValues = solution[0]\n",
    "eigenVectors = solution[1]"
   ]
  },
  {
   "cell_type": "code",
   "execution_count": 21,
   "metadata": {},
   "outputs": [],
   "source": [
    "idx = eigenValues.argsort()[::-1]   \n",
    "eigenValues_a = eigenValues[idx]\n",
    "eigenVectors_a = eigenVectors[:,idx]"
   ]
  },
  {
   "cell_type": "code",
   "execution_count": 22,
   "metadata": {},
   "outputs": [
    {
     "data": {
      "text/plain": [
       "array([ 5.59512795e+02+0.00000000e+00j,  9.70380789e+01+0.00000000e+00j,\n",
       "        1.49995944e+00+0.00000000e+00j,  3.02615987e-14+0.00000000e+00j,\n",
       "        2.70980168e-14+1.28896450e-14j,  2.70980168e-14-1.28896450e-14j,\n",
       "        1.63741086e-14+2.98716204e-15j,  1.63741086e-14-2.98716204e-15j,\n",
       "        1.56235634e-14+1.59447604e-14j,  1.56235634e-14-1.59447604e-14j,\n",
       "        1.31678917e-14+2.74885940e-14j,  1.31678917e-14-2.74885940e-14j,\n",
       "        1.27794051e-14+2.13326610e-14j,  1.27794051e-14-2.13326610e-14j,\n",
       "        1.11738840e-14+4.63250436e-15j,  1.11738840e-14-4.63250436e-15j,\n",
       "        1.10334360e-14+1.05551809e-15j,  1.10334360e-14-1.05551809e-15j,\n",
       "        9.83827433e-15+2.84561293e-15j,  9.83827433e-15-2.84561293e-15j,\n",
       "        8.59616675e-15+4.30813876e-15j,  8.59616675e-15-4.30813876e-15j,\n",
       "        8.54808057e-15+7.26815505e-16j,  8.54808057e-15-7.26815505e-16j,\n",
       "        7.93376515e-15+3.24945394e-14j,  7.93376515e-15-3.24945394e-14j,\n",
       "        7.65460978e-15+1.88375251e-15j,  7.65460978e-15-1.88375251e-15j,\n",
       "        7.05687729e-15+3.83859196e-15j,  7.05687729e-15-3.83859196e-15j,\n",
       "        6.36600138e-15+3.38678769e-15j,  6.36600138e-15-3.38678769e-15j,\n",
       "        6.23137425e-15+1.48148015e-15j,  6.23137425e-15-1.48148015e-15j,\n",
       "        5.68813852e-15+2.85028111e-15j,  5.68813852e-15-2.85028111e-15j,\n",
       "        5.39574060e-15+7.45061548e-15j,  5.39574060e-15-7.45061548e-15j,\n",
       "        5.20649824e-15+6.02320798e-15j,  5.20649824e-15-6.02320798e-15j,\n",
       "        5.20137865e-15+1.09649997e-15j,  5.20137865e-15-1.09649997e-15j,\n",
       "        4.54026617e-15+0.00000000e+00j,  4.09615081e-15+4.15363989e-15j,\n",
       "        4.09615081e-15-4.15363989e-15j,  3.82117357e-15+1.28605482e-15j,\n",
       "        3.82117357e-15-1.28605482e-15j,  3.63860106e-15+2.23572021e-15j,\n",
       "        3.63860106e-15-2.23572021e-15j,  3.41278553e-15+7.35762542e-15j,\n",
       "        3.41278553e-15-7.35762542e-15j,  3.40194201e-15+0.00000000e+00j,\n",
       "        3.21196606e-15+6.38472864e-15j,  3.21196606e-15-6.38472864e-15j,\n",
       "        3.18639065e-15+0.00000000e+00j,  3.06887866e-15+4.20052666e-15j,\n",
       "        3.06887866e-15-4.20052666e-15j,  2.98233715e-15+4.01027540e-15j,\n",
       "        2.98233715e-15-4.01027540e-15j,  2.75310038e-15+5.76242079e-15j,\n",
       "        2.75310038e-15-5.76242079e-15j,  2.20115139e-15+1.59797645e-15j,\n",
       "        2.20115139e-15-1.59797645e-15j,  1.85453248e-15+9.16236572e-15j,\n",
       "        1.85453248e-15-9.16236572e-15j,  1.79356046e-15+1.94676304e-15j,\n",
       "        1.79356046e-15-1.94676304e-15j,  1.48059333e-15+1.30266664e-14j,\n",
       "        1.48059333e-15-1.30266664e-14j,  6.45703298e-16+1.60637165e-15j,\n",
       "        6.45703298e-16-1.60637165e-15j,  5.00925449e-16+1.63604312e-16j,\n",
       "        5.00925449e-16-1.63604312e-16j,  2.51022476e-16+6.42824434e-15j,\n",
       "        2.51022476e-16-6.42824434e-15j,  2.01300745e-16+3.26297047e-15j,\n",
       "        2.01300745e-16-3.26297047e-15j,  1.51593120e-16+4.38565579e-15j,\n",
       "        1.51593120e-16-4.38565579e-15j,  1.69710092e-31+0.00000000e+00j,\n",
       "       -2.70907177e-16+1.88775076e-15j, -2.70907177e-16-1.88775076e-15j,\n",
       "       -2.95027642e-16+7.93347291e-15j, -2.95027642e-16-7.93347291e-15j,\n",
       "       -8.06696681e-16+5.18965498e-15j, -8.06696681e-16-5.18965498e-15j,\n",
       "       -9.19065665e-16+3.81094965e-15j, -9.19065665e-16-3.81094965e-15j,\n",
       "       -1.23279527e-15+2.94760406e-15j, -1.23279527e-15-2.94760406e-15j,\n",
       "       -1.34590049e-15+2.30801008e-16j, -1.34590049e-15-2.30801008e-16j,\n",
       "       -1.99506324e-15+2.11294961e-15j, -1.99506324e-15-2.11294961e-15j,\n",
       "       -1.99647915e-15+4.64008756e-15j, -1.99647915e-15-4.64008756e-15j,\n",
       "       -2.07412936e-15+7.44888545e-15j, -2.07412936e-15-7.44888545e-15j,\n",
       "       -2.09599861e-15+0.00000000e+00j, -2.67651849e-15+2.87207592e-15j,\n",
       "       -2.67651849e-15-2.87207592e-15j, -2.76631797e-15+0.00000000e+00j,\n",
       "       -2.81003326e-15+6.19747062e-15j, -2.81003326e-15-6.19747062e-15j,\n",
       "       -2.94302184e-15+1.44903538e-14j, -2.94302184e-15-1.44903538e-14j,\n",
       "       -3.33151051e-15+0.00000000e+00j, -3.89146482e-15+6.20612477e-15j,\n",
       "       -3.89146482e-15-6.20612477e-15j, -4.06675890e-15+6.24327873e-16j,\n",
       "       -4.06675890e-15-6.24327873e-16j, -4.19606558e-15+3.96366855e-15j,\n",
       "       -4.19606558e-15-3.96366855e-15j, -4.95778583e-15+3.33146073e-15j,\n",
       "       -4.95778583e-15-3.33146073e-15j, -5.22234933e-15+5.54956830e-16j,\n",
       "       -5.22234933e-15-5.54956830e-16j, -5.46014092e-15+4.12544142e-15j,\n",
       "       -5.46014092e-15-4.12544142e-15j, -6.47831564e-15+2.67016897e-15j,\n",
       "       -6.47831564e-15-2.67016897e-15j, -6.66496845e-15+0.00000000e+00j,\n",
       "       -7.07146477e-15+4.73564292e-15j, -7.07146477e-15-4.73564292e-15j,\n",
       "       -7.20525155e-15+4.47539514e-16j, -7.20525155e-15-4.47539514e-16j,\n",
       "       -7.71905974e-15+5.39676194e-15j, -7.71905974e-15-5.39676194e-15j,\n",
       "       -7.76363007e-15+1.09723398e-15j, -7.76363007e-15-1.09723398e-15j,\n",
       "       -7.90602795e-15+3.16233598e-15j, -7.90602795e-15-3.16233598e-15j,\n",
       "       -8.00519125e-15+2.25307409e-14j, -8.00519125e-15-2.25307409e-14j,\n",
       "       -9.64327968e-15+0.00000000e+00j, -1.07820075e-14+1.97494136e-15j,\n",
       "       -1.07820075e-14-1.97494136e-15j, -1.18932036e-14+3.35257381e-15j,\n",
       "       -1.18932036e-14-3.35257381e-15j, -1.32390928e-14+3.21005390e-14j,\n",
       "       -1.32390928e-14-3.21005390e-14j, -1.34582611e-14+6.97775656e-15j,\n",
       "       -1.34582611e-14-6.97775656e-15j, -1.58885285e-14+1.49682052e-14j,\n",
       "       -1.58885285e-14-1.49682052e-14j, -2.00854525e-14+0.00000000e+00j,\n",
       "       -2.18705749e-14+1.28672849e-14j, -2.18705749e-14-1.28672849e-14j,\n",
       "       -2.34960888e-14+3.90513261e-15j, -2.34960888e-14-3.90513261e-15j])"
      ]
     },
     "execution_count": 22,
     "metadata": {},
     "output_type": "execute_result"
    }
   ],
   "source": [
    "eigenValues_a"
   ]
  },
  {
   "cell_type": "code",
   "execution_count": 23,
   "metadata": {},
   "outputs": [
    {
     "data": {
      "text/plain": [
       "array([[ 0.07714555+0.j        , -0.12097209+0.j        ,\n",
       "        -0.00326623+0.j        , ...,  0.05121114+0.11622268j,\n",
       "        -0.04274675+0.1219347j , -0.04274675-0.1219347j ],\n",
       "       [ 0.07536535+0.j        , -0.09951521+0.j        ,\n",
       "        -0.0823624 +0.j        , ...,  0.02196213+0.01228899j,\n",
       "        -0.00275143+0.00259729j, -0.00275143-0.00259729j],\n",
       "       [ 0.07094687+0.j        , -0.10997061+0.j        ,\n",
       "        -0.01101448+0.j        , ..., -0.07812519+0.05643132j,\n",
       "         0.07569207+0.03174995j,  0.07569207-0.03174995j],\n",
       "       ...,\n",
       "       [ 0.08314101+0.j        ,  0.05740422+0.j        ,\n",
       "        -0.0347474 +0.j        , ...,  0.10105927-0.00583843j,\n",
       "        -0.15952033+0.05110659j, -0.15952033-0.05110659j],\n",
       "       [ 0.07210003+0.j        ,  0.05423228+0.j        ,\n",
       "         0.10061554+0.j        , ...,  0.0150888 -0.04452097j,\n",
       "        -0.06856523-0.01941484j, -0.06856523+0.01941484j],\n",
       "       [ 0.07575445+0.j        ,  0.05701074+0.j        ,\n",
       "         0.12572061+0.j        , ..., -0.0350393 -0.06251371j,\n",
       "         0.04653166-0.03348836j,  0.04653166+0.03348836j]])"
      ]
     },
     "execution_count": 23,
     "metadata": {},
     "output_type": "execute_result"
    }
   ],
   "source": [
    "eigenVectors_a"
   ]
  },
  {
   "cell_type": "code",
   "execution_count": null,
   "metadata": {},
   "outputs": [],
   "source": []
  }
 ],
 "metadata": {
  "kernelspec": {
   "display_name": "Python 3",
   "language": "python",
   "name": "python3"
  },
  "language_info": {
   "codemirror_mode": {
    "name": "ipython",
    "version": 3
   },
   "file_extension": ".py",
   "mimetype": "text/x-python",
   "name": "python",
   "nbconvert_exporter": "python",
   "pygments_lexer": "ipython3",
   "version": "3.8.5"
  }
 },
 "nbformat": 4,
 "nbformat_minor": 4
}
